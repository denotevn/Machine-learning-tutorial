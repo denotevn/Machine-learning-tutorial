{
 "cells": [
  {
   "cell_type": "markdown",
   "metadata": {},
   "source": [
    "### This is my tutorial when I completed set up enviroment variables for machine leanring"
   ]
  },
  {
   "cell_type": "code",
   "execution_count": 4,
   "metadata": {},
   "outputs": [
    {
     "name": "stdout",
     "output_type": "stream",
     "text": [
      "2\n"
     ]
    }
   ],
   "source": [
    "import numpy as np\n",
    "import scipy\n",
    "from sklearn.model_selection import train_test_split\n",
    "from sklearn.linear_model import LinearRegression\n",
    "from keras import activations\n",
    "import pandas as pd\n",
    "import sys\n",
    "\n",
    "import scipy\n",
    "print(f\"Scipy: {scipy.__version__}\")\n",
    "import numpy\n",
    "print(f\"Numpy: {numpy.__version__}\")\n",
    "import matplotlib\n",
    "print(f\"Matplotlib: {matplotlib.__version__}\")\n",
    "import pandas\n",
    "print(f\"Pandas: {pandas.__version__}\")\n",
    "import sklearn\n",
    "print(f\"Sklearn: {sklearn.__version__}\")"
   ]
  }
 ],
 "metadata": {
  "kernelspec": {
   "display_name": "Python 3.8.10 ('tuanenv': venv)",
   "language": "python",
   "name": "python3"
  },
  "language_info": {
   "codemirror_mode": {
    "name": "ipython",
    "version": 3
   },
   "file_extension": ".py",
   "mimetype": "text/x-python",
   "name": "python",
   "nbconvert_exporter": "python",
   "pygments_lexer": "ipython3",
   "version": "3.8.10"
  },
  "orig_nbformat": 4,
  "vscode": {
   "interpreter": {
    "hash": "d7b2155b938e533e131dbfed11b9807e301d4a3fbcce445e1a8fae2fefee6bc2"
   }
  }
 },
 "nbformat": 4,
 "nbformat_minor": 2
}
