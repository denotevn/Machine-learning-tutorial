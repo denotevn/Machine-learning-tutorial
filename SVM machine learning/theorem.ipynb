{
 "cells": [
  {
   "cell_type": "markdown",
   "metadata": {},
   "source": [
    "### Kernel function\n",
    "+ **Linear:**\n",
    "    + Chúng thường được khuyến nghị để phân loại văn bản vì hầu hết các loại bài toán phân loại này đều có thể phân tách tuyến tính\n",
    "    + Càng có nhiều features thì SVM hoạt động càng hiệu quả\n",
    "    + **Function defines the linear kernel: f(X) = w^T * X + b**\n",
    "    + Trong phương trình này, w là vectơ trọng số mà bạn muốn giảm thiểu, X là dữ liệu bạn đang cố gắng phân loại và b là hệ số tuyến tính được ước tính từ dữ liệu huấn luyện. Phương trình này xác định ranh giới quyết định mà SVM trả về\n",
    "\n",
    "+ **Polynomial:**\n",
    "    + Nhân đa thức không được sử dụng trong thực tế thường xuyên vì nó không hiệu quả về mặt tính toán như các nhân khác và các dự đoán của nó không chính xác.\n",
    "    + Here's the function for a polynomial kernel: f(X1, X2) = (a + X1^T * X2) ^ b\n",
    "  \n",
    "+ **Gaussian Radial Basis Function (RBF):**\n",
    "    + Một trong những hạt nhân mạnh nhất và được sử dụng phổ biến nhất trong SVM. Thường là sự lựa chọn cho dữ liệu **phi tuyến tính.**\n",
    "    + Function: f(X1, X2) = exp(-gamma * ||X1 - X2||^2)\n",
    "    + Trong phương trình này, gamma chỉ định giá trị của một điểm đào tạo trên các điểm dữ liệu khác xung quanh nó. || X1 - X2 || là sản phẩm chấm giữa các tính năng của bạn."
   ]
  },
  {
   "cell_type": "markdown",
   "metadata": {},
   "source": [
    "### **Có một số điều bạn nên chú ý đặc biệt với SVM:**\n",
    "\n",
    "+ Đảm bảo rằng dữ liệu của bạn ở dạng số thay vì dạng phân loại. SVM mong đợi số lượng thay vì các loại nhãn khác.\n",
    "+ Tránh sao chép dữ liệu càng nhiều càng tốt. Một số thư viện Python sẽ tạo bản sao dữ liệu của bạn nếu chúng không có định dạng cụ thể Việc sao chép dữ liệu cũng sẽ làm chậm thời gian luyện tập của bạn và làm lệch cách mô hình của bạn chỉ định trọng lượng cho một tính năng cụ thể.\n",
    "+ Xem kích thước bộ nhớ cache hạt nhân của bạn vì nó sử dụng RAM của bạn. Nếu bạn có một tập dữ liệu thực sự lớn, điều này có thể gây ra sự cố cho hệ thống của bạn.\n",
    "+ **Quy mô dữ liệu của bạn vì các thuật toán SVM không thay đổi quy mô. Điều đó có nghĩa là bạn có thể chuyển đổi tất cả dữ liệu của mình thành phạm vi [0, 1] hoặc [-1, 1].**"
   ]
  }
 ],
 "metadata": {
  "kernelspec": {
   "display_name": "Python 3.8.10 ('tuanenv': venv)",
   "language": "python",
   "name": "python3"
  },
  "language_info": {
   "name": "python",
   "version": "3.8.10"
  },
  "orig_nbformat": 4,
  "vscode": {
   "interpreter": {
    "hash": "d7b2155b938e533e131dbfed11b9807e301d4a3fbcce445e1a8fae2fefee6bc2"
   }
  }
 },
 "nbformat": 4,
 "nbformat_minor": 2
}
