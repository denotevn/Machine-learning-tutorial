{
 "cells": [
  {
   "cell_type": "markdown",
   "metadata": {},
   "source": [
    "### ***What is statistics***\n",
    "Statistics is an area of applied mathematics concerned with the data collection, analysis, interpretation, presentation\n",
    "\n",
    "### **BÀI HỌC RÚT RA CHÍNH**\n",
    "+ Thống kê là việc nghiên cứu và thao tác dữ liệu, bao gồm các cách thu thập, xem xét, phân tích và đưa ra kết luận từ dữ liệu.\n",
    "+ Hai lĩnh vực thống kê chính là thống kê mô tả và thống kê suy luận.\n",
    "+ Thống kê có thể được truyền đạt ở các cấp độ khác nhau, từ bộ mô tả phi số (cấp danh nghĩa) đến số tham chiếu đến điểm 0 (cấp tỷ lệ).\n",
    "+ Một số kỹ thuật lấy mẫu có thể được sử dụng để tổng hợp dữ liệu thống kê bao gồm lấy mẫu ngẫu nhiên, hệ thống, phân tầng hoặc theo cụm đơn giản.\n",
    "+ Thống kê có mặt ở hầu hết các phòng ban của mọi công ty và cũng là một phần không thể thiếu trong đầu tư."
   ]
  },
  {
   "cell_type": "markdown",
   "metadata": {},
   "source": [
    "### *** Basic statistics terminology ***\n",
    "1. **Bias**\n",
    "   + Random (indeterminate) error: It can evaluate the statistics data.\n",
    "   + Systematic (determinate) error: It can evaluate with the help of reference standards.\n",
    "   + Gross error: It can use to big mistakes, such as spelling each thing on the floor.\n",
    "2. **Descriptive statistics**\n",
    "   + Thống kê mô tả được sử dụng để đo giá trị trung bình hoặc độ lệch chuẩn hỗ trợ việc đánh giá dữ liệu theo cách thống kê mô tả.\n",
    "   + Thống kê mô tả cung cấp ý tưởng về sự khác biệt hoặc tương đồng giữa dữ liệu thu thập được\n",
    "       + Mean: Average of the given information.\n",
    "> Mean: Average of the given information.\n",
    "> Median: Center point of the collected data.\n",
    "> Mode: The most occurring value points. \n",
    "\n",
    "> Standard deviation: Deviation of the collected information in an experiment.\n",
    "> Interquartile Range: The difference between the 75% and 25% of the collected data.\n",
    "\n",
    "+ **Frequency:** Nó là tỷ lệ của các giá trị dữ liệu đã cho, là của một biến duy nhất từ ​​các biến khác nhau.\n",
    "+ **Outliers:** Các giá trị ngoại lai được gọi là điểm cực trị của các điểm dữ liệu.\n",
    "3. **Inferential statistics** Thống kê suy luận\n",
    "   + Khoảng tin cậy: Là sự kết hợp giữa sai số chuẩn và thống kê mẫu để dự đoán các tham số dân số lớn hơn.\n",
    "   + Sai số chuẩn: Là độ không đảm bảo của giá trị trung bình mẫu.\n",
    "   + Kiểm tra thống kê: Các kiểm tra này được sử dụng để định lượng mối liên hệ giữa các so sánh.\n",
    "\n",
    "***More information in this link: [Statistics tutorial](https://statanalytica.com/blog/terminologies-of-statistics/#:~:text=and%20much%20more.-,What%20are%20the%20basic%20terms%20of%20statistics%3F,variables%2C%20probability%2C%20and%20data.)***\n"
   ]
  },
  {
   "cell_type": "markdown",
   "metadata": {},
   "source": [
    "### Sampling Techniques\n",
    "##### Chọn mẫu - Cách tiếp cận thống kê trong Học máy\n",
    "**Recommended thislink :** ***[Sampling in Machine learning](https://medium.com/analytics-vidhya/sampling-statistical-approach-in-machine-learning-4903c40ebf86)***"
   ]
  }
 ],
 "metadata": {
  "language_info": {
   "name": "python"
  },
  "orig_nbformat": 4
 },
 "nbformat": 4,
 "nbformat_minor": 2
}
