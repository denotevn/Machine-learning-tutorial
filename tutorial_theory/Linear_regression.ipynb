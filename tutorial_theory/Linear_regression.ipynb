{
 "cells": [
  {
   "cell_type": "markdown",
   "metadata": {},
   "source": [
    "### Understand Linear Regression\n",
    "![markdown](https://github.com/denotevn/Machine-learning-tutorial/blob/main/tutorial_theory/picture/Linear%20Regression.png)\n",
    "\n",
    "+ ***To understand more about Linear Regression algorithm: [Picture](https://github.com/denotevn/Machine-learning-tutorial/blob/main/tutorial_theory/picture/Linear%20Regression.png)***\n"
   ]
  }
 ],
 "metadata": {
  "language_info": {
   "name": "python"
  },
  "orig_nbformat": 4
 },
 "nbformat": 4,
 "nbformat_minor": 2
}
