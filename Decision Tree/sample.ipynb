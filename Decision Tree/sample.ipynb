{
 "cells": [
  {
   "cell_type": "markdown",
   "metadata": {},
   "source": [
    "### Some thing went wrong"
   ]
  },
  {
   "cell_type": "code",
   "execution_count": 7,
   "metadata": {},
   "outputs": [],
   "source": [
    "training_data = [\n",
    "    ['Green', 3, 'Mango'],\n",
    "    ['Wellow', 3, 'Mango'],\n",
    "    ['Red', 1, 'Grape'],\n",
    "    ['Red', 1, 'Grape'],\n",
    "    ['Yellow', 3, 'Lemon'] \n",
    "]\n",
    "\n",
    "header = ['color','diameter','label']\n",
    "\n",
    "def unique_values(rows, col):\n",
    "    # Fin the unique values for a columns  in dataset\n",
    "    return set([rows[col] for row in rows])\n",
    "\n",
    "def class_counts(rows):\n",
    "    # COunt the number of each type of example in a dataset\n",
    "    counts = {} # dictionary of label -> counts\n",
    "    for row in rows:\n",
    "        label = row[-1]\n",
    "        if(label not in counts):\n",
    "            counts[label] = 0\n",
    "        counts[label] += 1\n",
    "    return counts\n",
    "\n",
    "def is_numerics(value):\n",
    "    return is_numerics(value=value)\n",
    "\n",
    "\n",
    "\n",
    "\n"
   ]
  },
  {
   "cell_type": "code",
   "execution_count": 8,
   "metadata": {},
   "outputs": [],
   "source": [
    "class Question:\n",
    "    '''A question is used to partition a dataset'''\n",
    "     \n",
    "    def __init__(self,column, value):\n",
    "        self.column = column\n",
    "        self.value = value\n",
    "\n",
    "    def match(self, example):\n",
    "        # Compare the feature value in an example to the \n",
    "        # feature value in this question\n",
    "        val = example[self.column]\n",
    "        if is_numerics(val):\n",
    "            return val >= self.value\n",
    "        else:\n",
    "            return val == self.value\n",
    "    \n",
    "    def __repr__(self):\n",
    "        # Helper method to print\n",
    "        condition = \"==\"\n",
    "        if is_numerics(self.value):\n",
    "            condition = \">=\"\n",
    "        return f\"Is {self.column} {condition} {str(self.value)}\"\n",
    "\n",
    "def paritition(rows, question):\n",
    "    '''For each row in the dataset, check if it matches the question.\n",
    "    If so, add it to \"true row\", otherwise, add it to \"flase row\". '''\n",
    "    true_rows, false_rows = [], []\n",
    "    for row in rows:\n",
    "        if question.match(row):\n",
    "            true_rows.append(row)\n",
    "        else:\n",
    "            false_rows.append(row)\n",
    "    return true_rows, false_rows\n",
    "\n",
    "def gini(rows):\n",
    "    \"\"\"Calculate the Gini Impurity for a list of rows\"\"\"\n",
    "    counts = class_counts(rows)\n",
    "    impurity = 1\n",
    "    for lbl in counts:\n",
    "        pro_of_lbl = counts[lbl] / float(len(rows))\n",
    "        impurity -= pro_of_lbl**2\n",
    "    return impurity\n",
    "\n",
    "# information gain\n",
    "def info_gain(left, right, current_undercertainly):\n",
    "    p = float(len(left)) / (len(left) + len(right))\n",
    "    return current_undercertainly - p*gini(left) - (1-p) * gini(right)\n"
   ]
  },
  {
   "cell_type": "code",
   "execution_count": 9,
   "metadata": {},
   "outputs": [],
   "source": [
    "def find_best_split(rows):\n",
    "    best_gain = 0 ## keep track of the best information gain\n",
    "    best_question = None # keep train of the feature / value that produced it\n",
    "    current_uncertainty = gini(rows)\n",
    "    n_features = len(rows[0]) - 1 # number of columns\n",
    "\n",
    "    for col in range(n_features):\n",
    "        values = set([row[col] for row in rows])\n",
    "        for val in values:\n",
    "            question = Question(col, val)\n",
    "            # try splititing  the dataset\n",
    "            true_rows, false_row = paritition(rows, val)\n",
    "\n",
    "            # Skip this split if it doesn't divide the dataset\n",
    "            if len(true_rows) == 0 or len(false_row) == 0:\n",
    "                continue\n",
    "            gain = info_gain(true_rows, false_row, current_uncertainty)\n",
    "\n",
    "            if gain >= best_gain:\n",
    "                best_gain, best_question = gain, question\n",
    "\n",
    "    return best_gain, best_question\n"
   ]
  },
  {
   "cell_type": "code",
   "execution_count": 10,
   "metadata": {},
   "outputs": [],
   "source": [
    "class Leaf:\n",
    "    # A leaf node classifies data\n",
    "    def __init__(self,rows):\n",
    "        self.predictions = class_counts(rows)\n",
    "    \n",
    "class Decision_Node: \n",
    "    def ____init__(self,\n",
    "                    question,\n",
    "                    true_branch,\n",
    "                    false_branch):\n",
    "        self.question = question\n",
    "        self.true_branch = true_branch\n",
    "        self.false_brannch = false_branch\n",
    "\n",
    "def build_tree(rows):\n",
    "    gain, question = find_best_split(rows)\n",
    "    if gain == 0:\n",
    "        return Leaf(rows)\n",
    "    \n",
    "    true_rows, false_rows = paritition(rows, question)\n",
    "\n",
    "    # Recursively build the true branch \n",
    "    true_branch = build_tree(true_rows)\n",
    "\n",
    "    false_branch = build_tree(false_rows)\n",
    "    return Decision_Node(question, true_branch, false_branch)"
   ]
  },
  {
   "cell_type": "code",
   "execution_count": 11,
   "metadata": {},
   "outputs": [],
   "source": [
    "def print_tree(node, spacing = \"\"):\n",
    "    if isinstance(node, Leaf):\n",
    "        print(spacing + \"Predict: \", node.predictions)\n",
    "        return\n",
    "    print(spacing+ str(node.question))\n",
    "    ## Call thi function recursive\n",
    "    print(spacing + '--> True:')\n",
    "    print_tree(node.true_branch, spacing + \" \")\n",
    "    print(spacing + \"--> False: \")\n",
    "    print_tree(node.false_branch, spacing + \" \")    "
   ]
  },
  {
   "cell_type": "code",
   "execution_count": 12,
   "metadata": {},
   "outputs": [],
   "source": [
    "def classify(row, node):\n",
    "    if isinstance(node, Leaf):\n",
    "        return node.predictions\n",
    "    if node.question.match(row):\n",
    "        return classify(row, node.true_branch)\n",
    "    else:\n",
    "        return classify(row, node.false_branch)\n",
    "\n",
    "def print_leaf(counts):\n",
    "    \"\"\"Print the predictions at a Leaf.\"\"\"\n",
    "    total = sum(counts.value())*1.0\n",
    "    probs = {}\n",
    "    for lbl in counts.keys():\n",
    "        probs[lbl] = str(int(counts[lbl]/total * 100)) + \"%\"\n",
    "    return probs"
   ]
  },
  {
   "cell_type": "code",
   "execution_count": 14,
   "metadata": {},
   "outputs": [
    {
     "ename": "NameError",
     "evalue": "name 'my_tree' is not defined",
     "output_type": "error",
     "traceback": [
      "\u001b[0;31m---------------------------------------------------------------------------\u001b[0m",
      "\u001b[0;31mNameError\u001b[0m                                 Traceback (most recent call last)",
      "\u001b[1;32m/home/tuandinh/Desktop/MachineLearning/Decision Tree/sample.ipynb Cell 7'\u001b[0m in \u001b[0;36m<cell line: 12>\u001b[0;34m()\u001b[0m\n\u001b[1;32m      <a href='vscode-notebook-cell:/home/tuandinh/Desktop/MachineLearning/Decision%20Tree/sample.ipynb#ch0000006?line=4'>5</a>\u001b[0m testing_data \u001b[39m=\u001b[39m [\n\u001b[1;32m      <a href='vscode-notebook-cell:/home/tuandinh/Desktop/MachineLearning/Decision%20Tree/sample.ipynb#ch0000006?line=5'>6</a>\u001b[0m     [\u001b[39m'\u001b[39m\u001b[39mGreen\u001b[39m\u001b[39m'\u001b[39m, \u001b[39m3\u001b[39m, \u001b[39m'\u001b[39m\u001b[39mLemon\u001b[39m\u001b[39m'\u001b[39m],\n\u001b[1;32m      <a href='vscode-notebook-cell:/home/tuandinh/Desktop/MachineLearning/Decision%20Tree/sample.ipynb#ch0000006?line=6'>7</a>\u001b[0m     [\u001b[39m'\u001b[39m\u001b[39mWellow\u001b[39m\u001b[39m'\u001b[39m, \u001b[39m3\u001b[39m, \u001b[39m'\u001b[39m\u001b[39mMango\u001b[39m\u001b[39m'\u001b[39m],\n\u001b[0;32m   (...)\u001b[0m\n\u001b[1;32m     <a href='vscode-notebook-cell:/home/tuandinh/Desktop/MachineLearning/Decision%20Tree/sample.ipynb#ch0000006?line=9'>10</a>\u001b[0m     [\u001b[39m'\u001b[39m\u001b[39mYellow\u001b[39m\u001b[39m'\u001b[39m, \u001b[39m3\u001b[39m, \u001b[39m'\u001b[39m\u001b[39mLemon\u001b[39m\u001b[39m'\u001b[39m] \n\u001b[1;32m     <a href='vscode-notebook-cell:/home/tuandinh/Desktop/MachineLearning/Decision%20Tree/sample.ipynb#ch0000006?line=10'>11</a>\u001b[0m ]\n\u001b[1;32m     <a href='vscode-notebook-cell:/home/tuandinh/Desktop/MachineLearning/Decision%20Tree/sample.ipynb#ch0000006?line=11'>12</a>\u001b[0m \u001b[39mfor\u001b[39;00m row \u001b[39min\u001b[39;00m testing_data:\n\u001b[0;32m---> <a href='vscode-notebook-cell:/home/tuandinh/Desktop/MachineLearning/Decision%20Tree/sample.ipynb#ch0000006?line=12'>13</a>\u001b[0m     \u001b[39mprint\u001b[39m(\u001b[39mf\u001b[39m\u001b[39m\"\u001b[39m\u001b[39mActual: \u001b[39m\u001b[39m{\u001b[39;00mrow[\u001b[39m-\u001b[39m\u001b[39m1\u001b[39m]\u001b[39m}\u001b[39;00m\u001b[39m. Predicted: \u001b[39m\u001b[39m{\u001b[39;00mprint_leaf(classify(row, my_tree))\u001b[39m}\u001b[39;00m\u001b[39m\"\u001b[39m)\n",
      "\u001b[0;31mNameError\u001b[0m: name 'my_tree' is not defined"
     ]
    }
   ],
   "source": [
    "if __name__ == 'main':\n",
    "    my_tree = build_tree(training_data)\n",
    "    print_tree(my_tree)\n",
    "# Evalue\n",
    "testing_data = [\n",
    "    ['Green', 3, 'Lemon'],\n",
    "    ['Wellow', 3, 'Mango'],\n",
    "    ['Red', 1, 'Grape'],\n",
    "    ['Red', 1, 'Grape'],\n",
    "    ['Yellow', 3, 'Lemon'] \n",
    "]\n",
    "for row in testing_data:\n",
    "    print(f\"Actual: {row[-1]}. Predicted: {print_leaf(classify(row, my_tree))}\")"
   ]
  }
 ],
 "metadata": {
  "kernelspec": {
   "display_name": "Python 3.8.10 ('tuanenv': venv)",
   "language": "python",
   "name": "python3"
  },
  "language_info": {
   "codemirror_mode": {
    "name": "ipython",
    "version": 3
   },
   "file_extension": ".py",
   "mimetype": "text/x-python",
   "name": "python",
   "nbconvert_exporter": "python",
   "pygments_lexer": "ipython3",
   "version": "3.8.10"
  },
  "orig_nbformat": 4,
  "vscode": {
   "interpreter": {
    "hash": "d7b2155b938e533e131dbfed11b9807e301d4a3fbcce445e1a8fae2fefee6bc2"
   }
  }
 },
 "nbformat": 4,
 "nbformat_minor": 2
}
