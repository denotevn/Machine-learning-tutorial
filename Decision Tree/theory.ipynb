{
 "cells": [
  {
   "cell_type": "markdown",
   "metadata": {},
   "source": [
    "## **What is classificaiton**\n",
    "> Classification is the process of dividing the datasets into different categories or groups by adding label"
   ]
  },
  {
   "cell_type": "markdown",
   "metadata": {},
   "source": [
    "### What is entropy\n",
    "+ **Entropy là thước đo sự hỗn loạn trong một hệ thống. Bởi vì nó năng động hơn nhiều so với các số liệu cứng nhắc khác như độ chính xác hoặc thậm chí sai số trung bình bình phương, việc sử dụng hương vị của entropy để tối ưu hóa các thuật toán từ cây quyết định đến mạng nơ-ron sâu đã cho thấy để tăng tốc độ và hiệu suất.**\n",
    "This link: **[Entropy](https://towardsdatascience.com/understanding-entropy-the-golden-measurement-of-machine-learning-4ea97c663dc3)**\n",
    "\n",
    "> Equation for Entropy in this Link: **[Entropy Equation](https://github.com/denotevn/Machine-learning-tutorial/blob/main/pictures/Entropy.png)**"
   ]
  }
 ],
 "metadata": {
  "language_info": {
   "name": "python"
  },
  "orig_nbformat": 4
 },
 "nbformat": 4,
 "nbformat_minor": 2
}
