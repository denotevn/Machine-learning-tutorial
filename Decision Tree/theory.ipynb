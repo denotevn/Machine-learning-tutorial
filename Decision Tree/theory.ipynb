{
 "cells": [
  {
   "cell_type": "markdown",
   "metadata": {},
   "source": [
    "## **What is classificaiton**\n",
    "> Classification is the process of dividing the datasets into different categories or groups by adding label"
   ]
  }
 ],
 "metadata": {
  "language_info": {
   "name": "python"
  },
  "orig_nbformat": 4
 },
 "nbformat": 4,
 "nbformat_minor": 2
}
