{
 "cells": [
  {
   "cell_type": "code",
   "execution_count": 12,
   "metadata": {},
   "outputs": [],
   "source": [
    "import numpy as np\n",
    "import pandas as pd\n",
    "import pylab as pl\n",
    "from sklearn.cluster import KMeans\n",
    "from sklearn.decomposition import PCA\n",
    "import matplotlib.pyplot as plt\n",
    "import seaborn as sns\n",
    "%matplotlib inline"
   ]
  },
  {
   "cell_type": "code",
   "execution_count": 14,
   "metadata": {},
   "outputs": [
    {
     "name": "stdout",
     "output_type": "stream",
     "text": [
      "(5043, 28)\n",
      "   color      director_name  num_critic_for_reviews  duration  \\\n",
      "0  Color      James Cameron                   723.0     178.0   \n",
      "1  Color     Gore Verbinski                   302.0     169.0   \n",
      "2  Color         Sam Mendes                   602.0     148.0   \n",
      "3  Color  Christopher Nolan                   813.0     164.0   \n",
      "4    NaN        Doug Walker                     NaN       NaN   \n",
      "\n",
      "   director_facebook_likes  actor_3_facebook_likes      actor_2_name  \\\n",
      "0                      0.0                   855.0  Joel David Moore   \n",
      "1                    563.0                  1000.0     Orlando Bloom   \n",
      "2                      0.0                   161.0      Rory Kinnear   \n",
      "3                  22000.0                 23000.0    Christian Bale   \n",
      "4                    131.0                     NaN        Rob Walker   \n",
      "\n",
      "   actor_1_facebook_likes        gross                           genres  ...  \\\n",
      "0                  1000.0  760505847.0  Action|Adventure|Fantasy|Sci-Fi  ...   \n",
      "1                 40000.0  309404152.0         Action|Adventure|Fantasy  ...   \n",
      "2                 11000.0  200074175.0        Action|Adventure|Thriller  ...   \n",
      "3                 27000.0  448130642.0                  Action|Thriller  ...   \n",
      "4                   131.0          NaN                      Documentary  ...   \n",
      "\n",
      "  num_user_for_reviews language  country  content_rating       budget  \\\n",
      "0               3054.0  English      USA           PG-13  237000000.0   \n",
      "1               1238.0  English      USA           PG-13  300000000.0   \n",
      "2                994.0  English       UK           PG-13  245000000.0   \n",
      "3               2701.0  English      USA           PG-13  250000000.0   \n",
      "4                  NaN      NaN      NaN             NaN          NaN   \n",
      "\n",
      "   title_year actor_2_facebook_likes imdb_score  aspect_ratio  \\\n",
      "0      2009.0                  936.0        7.9          1.78   \n",
      "1      2007.0                 5000.0        7.1          2.35   \n",
      "2      2015.0                  393.0        6.8          2.35   \n",
      "3      2012.0                23000.0        8.5          2.35   \n",
      "4         NaN                   12.0        7.1           NaN   \n",
      "\n",
      "  movie_facebook_likes  \n",
      "0                33000  \n",
      "1                    0  \n",
      "2                85000  \n",
      "3               164000  \n",
      "4                    0  \n",
      "\n",
      "[5 rows x 28 columns]\n"
     ]
    }
   ],
   "source": [
    "df = pd.read_csv(\"/home/tuandinh/Desktop/MachineLearning/Kmeans in ML/movie_metadata.csv\")\n",
    "print(df.shape)\n",
    "print(df.head())"
   ]
  },
  {
   "cell_type": "code",
   "execution_count": 26,
   "metadata": {},
   "outputs": [
    {
     "name": "stdout",
     "output_type": "stream",
     "text": [
      "0       2009.0\n",
      "1       2007.0\n",
      "2       2015.0\n",
      "3       2012.0\n",
      "4          NaN\n",
      "         ...  \n",
      "5038    2013.0\n",
      "5039       NaN\n",
      "5040    2013.0\n",
      "5041    2012.0\n",
      "5042    2004.0\n",
      "Name: title_year, Length: 5043, dtype: float64\n"
     ]
    }
   ],
   "source": [
    "print(df['title_year'])"
   ]
  },
  {
   "cell_type": "markdown",
   "metadata": {},
   "source": [
    "#### **Only keep the numeric columns for our analysis.**"
   ]
  },
  {
   "cell_type": "code",
   "execution_count": 16,
   "metadata": {},
   "outputs": [
    {
     "data": {
      "text/html": [
       "<div>\n",
       "<style scoped>\n",
       "    .dataframe tbody tr th:only-of-type {\n",
       "        vertical-align: middle;\n",
       "    }\n",
       "\n",
       "    .dataframe tbody tr th {\n",
       "        vertical-align: top;\n",
       "    }\n",
       "\n",
       "    .dataframe thead th {\n",
       "        text-align: right;\n",
       "    }\n",
       "</style>\n",
       "<table border=\"1\" class=\"dataframe\">\n",
       "  <thead>\n",
       "    <tr style=\"text-align: right;\">\n",
       "      <th></th>\n",
       "      <th>count</th>\n",
       "      <th>mean</th>\n",
       "      <th>std</th>\n",
       "      <th>min</th>\n",
       "      <th>25%</th>\n",
       "      <th>50%</th>\n",
       "      <th>75%</th>\n",
       "      <th>max</th>\n",
       "    </tr>\n",
       "  </thead>\n",
       "  <tbody>\n",
       "    <tr>\n",
       "      <th>num_critic_for_reviews</th>\n",
       "      <td>4993.0</td>\n",
       "      <td>1.401943e+02</td>\n",
       "      <td>1.216017e+02</td>\n",
       "      <td>1.00</td>\n",
       "      <td>50.00</td>\n",
       "      <td>110.00</td>\n",
       "      <td>195.00</td>\n",
       "      <td>8.130000e+02</td>\n",
       "    </tr>\n",
       "    <tr>\n",
       "      <th>duration</th>\n",
       "      <td>5028.0</td>\n",
       "      <td>1.072011e+02</td>\n",
       "      <td>2.519744e+01</td>\n",
       "      <td>7.00</td>\n",
       "      <td>93.00</td>\n",
       "      <td>103.00</td>\n",
       "      <td>118.00</td>\n",
       "      <td>5.110000e+02</td>\n",
       "    </tr>\n",
       "    <tr>\n",
       "      <th>director_facebook_likes</th>\n",
       "      <td>4939.0</td>\n",
       "      <td>6.865092e+02</td>\n",
       "      <td>2.813329e+03</td>\n",
       "      <td>0.00</td>\n",
       "      <td>7.00</td>\n",
       "      <td>49.00</td>\n",
       "      <td>194.50</td>\n",
       "      <td>2.300000e+04</td>\n",
       "    </tr>\n",
       "    <tr>\n",
       "      <th>actor_3_facebook_likes</th>\n",
       "      <td>5020.0</td>\n",
       "      <td>6.450098e+02</td>\n",
       "      <td>1.665042e+03</td>\n",
       "      <td>0.00</td>\n",
       "      <td>133.00</td>\n",
       "      <td>371.50</td>\n",
       "      <td>636.00</td>\n",
       "      <td>2.300000e+04</td>\n",
       "    </tr>\n",
       "    <tr>\n",
       "      <th>actor_1_facebook_likes</th>\n",
       "      <td>5036.0</td>\n",
       "      <td>6.560047e+03</td>\n",
       "      <td>1.502076e+04</td>\n",
       "      <td>0.00</td>\n",
       "      <td>614.00</td>\n",
       "      <td>988.00</td>\n",
       "      <td>11000.00</td>\n",
       "      <td>6.400000e+05</td>\n",
       "    </tr>\n",
       "    <tr>\n",
       "      <th>gross</th>\n",
       "      <td>4159.0</td>\n",
       "      <td>4.846841e+07</td>\n",
       "      <td>6.845299e+07</td>\n",
       "      <td>162.00</td>\n",
       "      <td>5340987.50</td>\n",
       "      <td>25517500.00</td>\n",
       "      <td>62309437.50</td>\n",
       "      <td>7.605058e+08</td>\n",
       "    </tr>\n",
       "    <tr>\n",
       "      <th>num_voted_users</th>\n",
       "      <td>5043.0</td>\n",
       "      <td>8.366816e+04</td>\n",
       "      <td>1.384853e+05</td>\n",
       "      <td>5.00</td>\n",
       "      <td>8593.50</td>\n",
       "      <td>34359.00</td>\n",
       "      <td>96309.00</td>\n",
       "      <td>1.689764e+06</td>\n",
       "    </tr>\n",
       "    <tr>\n",
       "      <th>cast_total_facebook_likes</th>\n",
       "      <td>5043.0</td>\n",
       "      <td>9.699064e+03</td>\n",
       "      <td>1.816380e+04</td>\n",
       "      <td>0.00</td>\n",
       "      <td>1411.00</td>\n",
       "      <td>3090.00</td>\n",
       "      <td>13756.50</td>\n",
       "      <td>6.567300e+05</td>\n",
       "    </tr>\n",
       "    <tr>\n",
       "      <th>facenumber_in_poster</th>\n",
       "      <td>5030.0</td>\n",
       "      <td>1.371173e+00</td>\n",
       "      <td>2.013576e+00</td>\n",
       "      <td>0.00</td>\n",
       "      <td>0.00</td>\n",
       "      <td>1.00</td>\n",
       "      <td>2.00</td>\n",
       "      <td>4.300000e+01</td>\n",
       "    </tr>\n",
       "    <tr>\n",
       "      <th>num_user_for_reviews</th>\n",
       "      <td>5022.0</td>\n",
       "      <td>2.727708e+02</td>\n",
       "      <td>3.779829e+02</td>\n",
       "      <td>1.00</td>\n",
       "      <td>65.00</td>\n",
       "      <td>156.00</td>\n",
       "      <td>326.00</td>\n",
       "      <td>5.060000e+03</td>\n",
       "    </tr>\n",
       "    <tr>\n",
       "      <th>budget</th>\n",
       "      <td>4551.0</td>\n",
       "      <td>3.975262e+07</td>\n",
       "      <td>2.061149e+08</td>\n",
       "      <td>218.00</td>\n",
       "      <td>6000000.00</td>\n",
       "      <td>20000000.00</td>\n",
       "      <td>45000000.00</td>\n",
       "      <td>1.221550e+10</td>\n",
       "    </tr>\n",
       "    <tr>\n",
       "      <th>title_year</th>\n",
       "      <td>4935.0</td>\n",
       "      <td>2.002471e+03</td>\n",
       "      <td>1.247460e+01</td>\n",
       "      <td>1916.00</td>\n",
       "      <td>1999.00</td>\n",
       "      <td>2005.00</td>\n",
       "      <td>2011.00</td>\n",
       "      <td>2.016000e+03</td>\n",
       "    </tr>\n",
       "    <tr>\n",
       "      <th>actor_2_facebook_likes</th>\n",
       "      <td>5030.0</td>\n",
       "      <td>1.651754e+03</td>\n",
       "      <td>4.042439e+03</td>\n",
       "      <td>0.00</td>\n",
       "      <td>281.00</td>\n",
       "      <td>595.00</td>\n",
       "      <td>918.00</td>\n",
       "      <td>1.370000e+05</td>\n",
       "    </tr>\n",
       "    <tr>\n",
       "      <th>imdb_score</th>\n",
       "      <td>5043.0</td>\n",
       "      <td>6.442138e+00</td>\n",
       "      <td>1.125116e+00</td>\n",
       "      <td>1.60</td>\n",
       "      <td>5.80</td>\n",
       "      <td>6.60</td>\n",
       "      <td>7.20</td>\n",
       "      <td>9.500000e+00</td>\n",
       "    </tr>\n",
       "    <tr>\n",
       "      <th>aspect_ratio</th>\n",
       "      <td>4714.0</td>\n",
       "      <td>2.220403e+00</td>\n",
       "      <td>1.385113e+00</td>\n",
       "      <td>1.18</td>\n",
       "      <td>1.85</td>\n",
       "      <td>2.35</td>\n",
       "      <td>2.35</td>\n",
       "      <td>1.600000e+01</td>\n",
       "    </tr>\n",
       "    <tr>\n",
       "      <th>movie_facebook_likes</th>\n",
       "      <td>5043.0</td>\n",
       "      <td>7.525965e+03</td>\n",
       "      <td>1.932045e+04</td>\n",
       "      <td>0.00</td>\n",
       "      <td>0.00</td>\n",
       "      <td>166.00</td>\n",
       "      <td>3000.00</td>\n",
       "      <td>3.490000e+05</td>\n",
       "    </tr>\n",
       "  </tbody>\n",
       "</table>\n",
       "</div>"
      ],
      "text/plain": [
       "                            count          mean           std      min  \\\n",
       "num_critic_for_reviews     4993.0  1.401943e+02  1.216017e+02     1.00   \n",
       "duration                   5028.0  1.072011e+02  2.519744e+01     7.00   \n",
       "director_facebook_likes    4939.0  6.865092e+02  2.813329e+03     0.00   \n",
       "actor_3_facebook_likes     5020.0  6.450098e+02  1.665042e+03     0.00   \n",
       "actor_1_facebook_likes     5036.0  6.560047e+03  1.502076e+04     0.00   \n",
       "gross                      4159.0  4.846841e+07  6.845299e+07   162.00   \n",
       "num_voted_users            5043.0  8.366816e+04  1.384853e+05     5.00   \n",
       "cast_total_facebook_likes  5043.0  9.699064e+03  1.816380e+04     0.00   \n",
       "facenumber_in_poster       5030.0  1.371173e+00  2.013576e+00     0.00   \n",
       "num_user_for_reviews       5022.0  2.727708e+02  3.779829e+02     1.00   \n",
       "budget                     4551.0  3.975262e+07  2.061149e+08   218.00   \n",
       "title_year                 4935.0  2.002471e+03  1.247460e+01  1916.00   \n",
       "actor_2_facebook_likes     5030.0  1.651754e+03  4.042439e+03     0.00   \n",
       "imdb_score                 5043.0  6.442138e+00  1.125116e+00     1.60   \n",
       "aspect_ratio               4714.0  2.220403e+00  1.385113e+00     1.18   \n",
       "movie_facebook_likes       5043.0  7.525965e+03  1.932045e+04     0.00   \n",
       "\n",
       "                                  25%          50%          75%           max  \n",
       "num_critic_for_reviews          50.00       110.00       195.00  8.130000e+02  \n",
       "duration                        93.00       103.00       118.00  5.110000e+02  \n",
       "director_facebook_likes          7.00        49.00       194.50  2.300000e+04  \n",
       "actor_3_facebook_likes         133.00       371.50       636.00  2.300000e+04  \n",
       "actor_1_facebook_likes         614.00       988.00     11000.00  6.400000e+05  \n",
       "gross                      5340987.50  25517500.00  62309437.50  7.605058e+08  \n",
       "num_voted_users               8593.50     34359.00     96309.00  1.689764e+06  \n",
       "cast_total_facebook_likes     1411.00      3090.00     13756.50  6.567300e+05  \n",
       "facenumber_in_poster             0.00         1.00         2.00  4.300000e+01  \n",
       "num_user_for_reviews            65.00       156.00       326.00  5.060000e+03  \n",
       "budget                     6000000.00  20000000.00  45000000.00  1.221550e+10  \n",
       "title_year                    1999.00      2005.00      2011.00  2.016000e+03  \n",
       "actor_2_facebook_likes         281.00       595.00       918.00  1.370000e+05  \n",
       "imdb_score                       5.80         6.60         7.20  9.500000e+00  \n",
       "aspect_ratio                     1.85         2.35         2.35  1.600000e+01  \n",
       "movie_facebook_likes             0.00       166.00      3000.00  3.490000e+05  "
      ]
     },
     "execution_count": 16,
     "metadata": {},
     "output_type": "execute_result"
    }
   ],
   "source": [
    "df.describe().T"
   ]
  },
  {
   "cell_type": "code",
   "execution_count": null,
   "metadata": {},
   "outputs": [],
   "source": [
    "df.drop(df.index[19730],inplace=True)\n",
    "df.drop(df.index[29502],inplace=True)\n",
    "df.drop(df.index[35585],inplace=True)"
   ]
  },
  {
   "cell_type": "code",
   "execution_count": 27,
   "metadata": {},
   "outputs": [
    {
     "data": {
      "text/html": [
       "<div>\n",
       "<style scoped>\n",
       "    .dataframe tbody tr th:only-of-type {\n",
       "        vertical-align: middle;\n",
       "    }\n",
       "\n",
       "    .dataframe tbody tr th {\n",
       "        vertical-align: top;\n",
       "    }\n",
       "\n",
       "    .dataframe thead th {\n",
       "        text-align: right;\n",
       "    }\n",
       "</style>\n",
       "<table border=\"1\" class=\"dataframe\">\n",
       "  <thead>\n",
       "    <tr style=\"text-align: right;\">\n",
       "      <th></th>\n",
       "      <th>director_facebook_likes</th>\n",
       "      <th>actor_3_facebook_likes</th>\n",
       "      <th>num_critic_for_reviews</th>\n",
       "      <th>duration</th>\n",
       "      <th>gross</th>\n",
       "      <th>budget</th>\n",
       "      <th>num_user_for_reviews</th>\n",
       "      <th>title_year</th>\n",
       "    </tr>\n",
       "  </thead>\n",
       "  <tbody>\n",
       "    <tr>\n",
       "      <th>0</th>\n",
       "      <td>0.0</td>\n",
       "      <td>855.0</td>\n",
       "      <td>723.0</td>\n",
       "      <td>178.0</td>\n",
       "      <td>760505847.0</td>\n",
       "      <td>237000000.0</td>\n",
       "      <td>3054.0</td>\n",
       "      <td>2009.0</td>\n",
       "    </tr>\n",
       "    <tr>\n",
       "      <th>1</th>\n",
       "      <td>563.0</td>\n",
       "      <td>1000.0</td>\n",
       "      <td>302.0</td>\n",
       "      <td>169.0</td>\n",
       "      <td>309404152.0</td>\n",
       "      <td>300000000.0</td>\n",
       "      <td>1238.0</td>\n",
       "      <td>2007.0</td>\n",
       "    </tr>\n",
       "    <tr>\n",
       "      <th>2</th>\n",
       "      <td>0.0</td>\n",
       "      <td>161.0</td>\n",
       "      <td>602.0</td>\n",
       "      <td>148.0</td>\n",
       "      <td>200074175.0</td>\n",
       "      <td>245000000.0</td>\n",
       "      <td>994.0</td>\n",
       "      <td>2015.0</td>\n",
       "    </tr>\n",
       "    <tr>\n",
       "      <th>3</th>\n",
       "      <td>22000.0</td>\n",
       "      <td>23000.0</td>\n",
       "      <td>813.0</td>\n",
       "      <td>164.0</td>\n",
       "      <td>448130642.0</td>\n",
       "      <td>250000000.0</td>\n",
       "      <td>2701.0</td>\n",
       "      <td>2012.0</td>\n",
       "    </tr>\n",
       "    <tr>\n",
       "      <th>4</th>\n",
       "      <td>131.0</td>\n",
       "      <td>NaN</td>\n",
       "      <td>NaN</td>\n",
       "      <td>NaN</td>\n",
       "      <td>NaN</td>\n",
       "      <td>NaN</td>\n",
       "      <td>NaN</td>\n",
       "      <td>NaN</td>\n",
       "    </tr>\n",
       "  </tbody>\n",
       "</table>\n",
       "</div>"
      ],
      "text/plain": [
       "   director_facebook_likes  actor_3_facebook_likes  num_critic_for_reviews  \\\n",
       "0                      0.0                   855.0                   723.0   \n",
       "1                    563.0                  1000.0                   302.0   \n",
       "2                      0.0                   161.0                   602.0   \n",
       "3                  22000.0                 23000.0                   813.0   \n",
       "4                    131.0                     NaN                     NaN   \n",
       "\n",
       "   duration        gross       budget  num_user_for_reviews  title_year  \n",
       "0     178.0  760505847.0  237000000.0                3054.0      2009.0  \n",
       "1     169.0  309404152.0  300000000.0                1238.0      2007.0  \n",
       "2     148.0  200074175.0  245000000.0                 994.0      2015.0  \n",
       "3     164.0  448130642.0  250000000.0                2701.0      2012.0  \n",
       "4       NaN          NaN          NaN                   NaN         NaN  "
      ]
     },
     "execution_count": 27,
     "metadata": {},
     "output_type": "execute_result"
    }
   ],
   "source": [
    "df_numeric = df[['director_facebook_likes','actor_3_facebook_likes','num_critic_for_reviews','duration','gross','budget','num_user_for_reviews', 'title_year']]\n",
    "df_numeric.head()"
   ]
  },
  {
   "cell_type": "code",
   "execution_count": 28,
   "metadata": {},
   "outputs": [
    {
     "data": {
      "text/plain": [
       "<AxesSubplot:>"
      ]
     },
     "execution_count": 28,
     "metadata": {},
     "output_type": "execute_result"
    },
    {
     "data": {
      "image/png": "[encoded data removed]",
      "text/plain": [
       "<Figure size 432x288 with 2 Axes>"
      ]
     },
     "metadata": {
      "needs_background": "light"
     },
     "output_type": "display_data"
    }
   ],
   "source": [
    "# Check missing value\n",
    "sns.heatmap(df_numeric.isnull(), yticklabels=True)"
   ]
  },
  {
   "cell_type": "code",
   "execution_count": 29,
   "metadata": {},
   "outputs": [
    {
     "data": {
      "text/plain": [
       "director_facebook_likes    104\n",
       "actor_3_facebook_likes      23\n",
       "num_critic_for_reviews      50\n",
       "duration                    15\n",
       "gross                      884\n",
       "budget                     492\n",
       "num_user_for_reviews        21\n",
       "title_year                 108\n",
       "dtype: int64"
      ]
     },
     "execution_count": 29,
     "metadata": {},
     "output_type": "execute_result"
    }
   ],
   "source": [
    "df_numeric.isnull().sum()"
   ]
  },
  {
   "cell_type": "code",
   "execution_count": 33,
   "metadata": {},
   "outputs": [
    {
     "name": "stderr",
     "output_type": "stream",
     "text": [
      "/tmp/ipykernel_180687/758178492.py:3: SettingWithCopyWarning: \n",
      "A value is trying to be set on a copy of a slice from a DataFrame.\n",
      "Try using .loc[row_indexer,col_indexer] = value instead\n",
      "\n",
      "See the caveats in the documentation: https://pandas.pydata.org/pandas-docs/stable/user_guide/indexing.html#returning-a-view-versus-a-copy\n",
      "  df_numeric[feature] = df_numeric[feature].fillna(df_numeric[feature].mean())\n"
     ]
    }
   ],
   "source": [
    "## Handing missing values\n",
    "features = ['director_facebook_likes','actor_3_facebook_likes','num_critic_for_reviews','duration','gross','budget','num_user_for_reviews', 'title_year']\n",
    "for feature in features:\n",
    "    df_numeric[feature] = df_numeric[feature].fillna(df_numeric[feature].mean())"
   ]
  },
  {
   "cell_type": "code",
   "execution_count": 34,
   "metadata": {},
   "outputs": [
    {
     "data": {
      "text/plain": [
       "director_facebook_likes    0\n",
       "actor_3_facebook_likes     0\n",
       "num_critic_for_reviews     0\n",
       "duration                   0\n",
       "gross                      0\n",
       "budget                     0\n",
       "num_user_for_reviews       0\n",
       "title_year                 0\n",
       "dtype: int64"
      ]
     },
     "execution_count": 34,
     "metadata": {},
     "output_type": "execute_result"
    }
   ],
   "source": [
    "df_numeric.isnull().sum()"
   ]
  },
  {
   "cell_type": "code",
   "execution_count": 35,
   "metadata": {},
   "outputs": [
    {
     "data": {
      "text/html": [
       "<div>\n",
       "<style scoped>\n",
       "    .dataframe tbody tr th:only-of-type {\n",
       "        vertical-align: middle;\n",
       "    }\n",
       "\n",
       "    .dataframe tbody tr th {\n",
       "        vertical-align: top;\n",
       "    }\n",
       "\n",
       "    .dataframe thead th {\n",
       "        text-align: right;\n",
       "    }\n",
       "</style>\n",
       "<table border=\"1\" class=\"dataframe\">\n",
       "  <thead>\n",
       "    <tr style=\"text-align: right;\">\n",
       "      <th></th>\n",
       "      <th>director_facebook_likes</th>\n",
       "      <th>actor_3_facebook_likes</th>\n",
       "      <th>num_critic_for_reviews</th>\n",
       "      <th>duration</th>\n",
       "      <th>gross</th>\n",
       "      <th>budget</th>\n",
       "      <th>num_user_for_reviews</th>\n",
       "    </tr>\n",
       "  </thead>\n",
       "  <tbody>\n",
       "    <tr>\n",
       "      <th>0</th>\n",
       "      <td>0.000000</td>\n",
       "      <td>0.037174</td>\n",
       "      <td>0.889163</td>\n",
       "      <td>0.339286</td>\n",
       "      <td>1.000000</td>\n",
       "      <td>0.019402</td>\n",
       "      <td>0.603479</td>\n",
       "    </tr>\n",
       "    <tr>\n",
       "      <th>1</th>\n",
       "      <td>0.024478</td>\n",
       "      <td>0.043478</td>\n",
       "      <td>0.370690</td>\n",
       "      <td>0.321429</td>\n",
       "      <td>0.406840</td>\n",
       "      <td>0.024559</td>\n",
       "      <td>0.244515</td>\n",
       "    </tr>\n",
       "    <tr>\n",
       "      <th>2</th>\n",
       "      <td>0.000000</td>\n",
       "      <td>0.007000</td>\n",
       "      <td>0.740148</td>\n",
       "      <td>0.279762</td>\n",
       "      <td>0.263080</td>\n",
       "      <td>0.020056</td>\n",
       "      <td>0.196284</td>\n",
       "    </tr>\n",
       "    <tr>\n",
       "      <th>3</th>\n",
       "      <td>0.956522</td>\n",
       "      <td>1.000000</td>\n",
       "      <td>1.000000</td>\n",
       "      <td>0.311508</td>\n",
       "      <td>0.589253</td>\n",
       "      <td>0.020466</td>\n",
       "      <td>0.533702</td>\n",
       "    </tr>\n",
       "    <tr>\n",
       "      <th>4</th>\n",
       "      <td>0.005696</td>\n",
       "      <td>0.028044</td>\n",
       "      <td>0.171422</td>\n",
       "      <td>0.198812</td>\n",
       "      <td>0.063732</td>\n",
       "      <td>0.003254</td>\n",
       "      <td>0.053720</td>\n",
       "    </tr>\n",
       "  </tbody>\n",
       "</table>\n",
       "</div>"
      ],
      "text/plain": [
       "   director_facebook_likes  actor_3_facebook_likes  num_critic_for_reviews  \\\n",
       "0                 0.000000                0.037174                0.889163   \n",
       "1                 0.024478                0.043478                0.370690   \n",
       "2                 0.000000                0.007000                0.740148   \n",
       "3                 0.956522                1.000000                1.000000   \n",
       "4                 0.005696                0.028044                0.171422   \n",
       "\n",
       "   duration     gross    budget  num_user_for_reviews  \n",
       "0  0.339286  1.000000  0.019402              0.603479  \n",
       "1  0.321429  0.406840  0.024559              0.244515  \n",
       "2  0.279762  0.263080  0.020056              0.196284  \n",
       "3  0.311508  0.589253  0.020466              0.533702  \n",
       "4  0.198812  0.063732  0.003254              0.053720  "
      ]
     },
     "execution_count": 35,
     "metadata": {},
     "output_type": "execute_result"
    }
   ],
   "source": [
    "from sklearn import preprocessing\n",
    "minmax_processed = preprocessing.MinMaxScaler().fit_transform(df_numeric.drop('title_year',axis=1))\n",
    "df_numeric_scaled = pd.DataFrame(minmax_processed, index=df_numeric.index, columns=df_numeric.columns[:-1])\n",
    "df_numeric_scaled.head()"
   ]
  },
  {
   "cell_type": "code",
   "execution_count": 36,
   "metadata": {},
   "outputs": [],
   "source": [
    "Nc = range(1, 20)\n",
    "kmeans = [KMeans(n_clusters=i) for i in Nc]"
   ]
  },
  {
   "cell_type": "code",
   "execution_count": 37,
   "metadata": {},
   "outputs": [
    {
     "data": {
      "image/png": "[encoded data removed]",
      "text/plain": [
       "<Figure size 432x288 with 1 Axes>"
      ]
     },
     "metadata": {
      "needs_background": "light"
     },
     "output_type": "display_data"
    }
   ],
   "source": [
    "score = [kmeans[i].fit(df_numeric_scaled).score(df_numeric_scaled) for i in range(len(kmeans))]\n",
    "pl.plot(Nc,score)\n",
    "pl.xlabel('Number of Clusters')\n",
    "pl.ylabel('Score')\n",
    "pl.title('Elbow Curve')\n",
    "pl.show()"
   ]
  },
  {
   "cell_type": "code",
   "execution_count": null,
   "metadata": {},
   "outputs": [],
   "source": []
  }
 ],
 "metadata": {
  "kernelspec": {
   "display_name": "Python 3.8.10 ('tuanenv': venv)",
   "language": "python",
   "name": "python3"
  },
  "language_info": {
   "codemirror_mode": {
    "name": "ipython",
    "version": 3
   },
   "file_extension": ".py",
   "mimetype": "text/x-python",
   "name": "python",
   "nbconvert_exporter": "python",
   "pygments_lexer": "ipython3",
   "version": "3.8.10"
  },
  "orig_nbformat": 4,
  "vscode": {
   "interpreter": {
    "hash": "d7b2155b938e533e131dbfed11b9807e301d4a3fbcce445e1a8fae2fefee6bc2"
   }
  }
 },
 "nbformat": 4,
 "nbformat_minor": 2
}
