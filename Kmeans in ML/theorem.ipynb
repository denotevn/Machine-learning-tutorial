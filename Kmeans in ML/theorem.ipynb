{
 "cells": [
  {
   "cell_type": "markdown",
   "metadata": {},
   "source": [
    "### Phan cum Kmeans\n",
    "+ Chon k bang ELBOW\n",
    "+ chon k bang silhouette coefficient"
   ]
  }
 ],
 "metadata": {
  "language_info": {
   "name": "python"
  },
  "orig_nbformat": 4
 },
 "nbformat": 4,
 "nbformat_minor": 2
}
