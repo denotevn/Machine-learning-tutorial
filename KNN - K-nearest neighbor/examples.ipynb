{
 "cells": [
  {
   "cell_type": "code",
   "execution_count": 16,
   "metadata": {},
   "outputs": [
    {
     "name": "stdout",
     "output_type": "stream",
     "text": [
      "[[ 0.71168465  0.30396965 -0.04659066 ...  1.71414496  1.72060582\n",
      "  -0.72834737]\n",
      " [-0.11771688  1.74368314  0.26358818 ... -1.43349747 -1.6839028\n",
      "   1.57701219]\n",
      " [ 1.17943086  1.43455023  1.20835775 ... -0.30584964 -0.46664478\n",
      "  -0.78247962]\n",
      " ...\n",
      " [-1.38812227  0.85470905 -0.49557828 ... -0.18346739 -0.6749865\n",
      "   1.30266082]\n",
      " [ 0.38164872 -1.59292538 -1.08512304 ...  0.30696366  0.98343561\n",
      "   0.17032679]\n",
      " [ 1.40190294 -0.45009605  0.08593192 ...  0.01368384  0.50821216\n",
      "   0.59707625]]\n",
      "10000\n"
     ]
    }
   ],
   "source": [
    "from __future__ import print_function\n",
    "import numpy as np\n",
    "from time import time\n",
    "\n",
    "d, N = 1000, 10000 # # dimension, number of training points\n",
    "x = np.random.randn(N, d) # N d-dimensional points\n",
    "z = np.random.randn(d)\n",
    "print(x)\n",
    "print(len(x))\n"
   ]
  },
  {
   "cell_type": "code",
   "execution_count": 17,
   "metadata": {},
   "outputs": [
    {
     "name": "stdout",
     "output_type": "stream",
     "text": [
      "naive point2set, running time: 0.11558032035827637 s\n",
      "fast point2set , running time: 0.21698808670043945 s\n",
      "Result difference: 2.0261788612255448e-11\n"
     ]
    }
   ],
   "source": [
    "# naively compute square distance between two vector\n",
    "def dist_pp(z, x):\n",
    "    d = z - x.reshape(z.shape) # force x and z to have the same dims\n",
    "    return np.sum(d*d)\n",
    "# from one point to each point in a set, naive\n",
    "def dist_ps_naive(z, X):\n",
    "    N = X.shape[0]\n",
    "    res = np.zeros((1, N))\n",
    "    for i in range(N):\n",
    "        res[0][i] = dist_pp(z, X[i])\n",
    "    return res\n",
    "# from one point to each point in a set, fast\n",
    "def dist_ps_fast(z, X):\n",
    "    X2 = np.sum(X*X, 1) # square of l2 norm of each ROW of X\n",
    "    z2 = np.sum(z*z) # square of l2 norm of z\n",
    "    return X2 + z2 - 2*X.dot(z) # z2 can be ignored\n",
    "t1 = time()\n",
    "D1 = dist_ps_naive(z, X)\n",
    "print(\"naive point2set, running time:\", time() - t1, \"s\")\n",
    "t1 = time()\n",
    "D2 = dist_ps_fast(z, X)\n",
    "print(\"fast point2set , running time:\", time() - t1, \"s\")\n",
    "print(\"Result difference:\", np.linalg.norm(D1 - D2))"
   ]
  },
  {
   "cell_type": "code",
   "execution_count": null,
   "metadata": {},
   "outputs": [],
   "source": []
  }
 ],
 "metadata": {
  "kernelspec": {
   "display_name": "Python 3.8.10 ('tuanenv': venv)",
   "language": "python",
   "name": "python3"
  },
  "language_info": {
   "codemirror_mode": {
    "name": "ipython",
    "version": 3
   },
   "file_extension": ".py",
   "mimetype": "text/x-python",
   "name": "python",
   "nbconvert_exporter": "python",
   "pygments_lexer": "ipython3",
   "version": "3.8.10"
  },
  "orig_nbformat": 4,
  "vscode": {
   "interpreter": {
    "hash": "d7b2155b938e533e131dbfed11b9807e301d4a3fbcce445e1a8fae2fefee6bc2"
   }
  }
 },
 "nbformat": 4,
 "nbformat_minor": 2
}
