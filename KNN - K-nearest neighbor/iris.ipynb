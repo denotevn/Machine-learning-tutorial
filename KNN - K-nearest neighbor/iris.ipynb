{
 "cells": [
  {
   "cell_type": "markdown",
   "metadata": {},
   "source": [
    "+ np.random.seed(7) để đảm bảo rằng khi các bạn chạy lại các đoạn code này cũng nhậnđược kết quả tương tự. Có thể thay 7 bằng một số tự nhiên bất kỳ 32 bit"
   ]
  },
  {
   "cell_type": "code",
   "execution_count": 8,
   "metadata": {},
   "outputs": [],
   "source": [
    "import pandas as pd\n",
    "from __future__ import print_function\n",
    "import numpy as np\n",
    "from sklearn.model_selection import train_test_split\n",
    "from sklearn.metrics import accuracy_score\n",
    "np.random.seed(7)"
   ]
  },
  {
   "cell_type": "code",
   "execution_count": 12,
   "metadata": {},
   "outputs": [
    {
     "name": "stdout",
     "output_type": "stream",
     "text": [
      "Labels: [0 1 2]\n",
      "Train: 120 Test_size: 30\n"
     ]
    }
   ],
   "source": [
    "from sklearn.datasets import load_iris\n",
    "iris_data = load_iris()\n",
    "iris_x = iris_data.data\n",
    "iris_y = iris_data.target\n",
    "print(f\"Labels: {np.unique(iris_y)}\")\n",
    "\n",
    "x_train, x_test, y_train, y_test = train_test_split(iris_x,iris_y, train_size=0.8, test_size=0.2)\n",
    "print(f\"Train: {x_train.shape[0]} Test_size: {x_test.shape[0]}\")"
   ]
  },
  {
   "cell_type": "markdown",
   "metadata": {},
   "source": [
    "+ **With more information with KNeighborsClassifier: [KNeighborsClassifier](https://scikit-learn.org/stable/modules/generated/sklearn.neighbors.KNeighborsClassifier.html)**"
   ]
  },
  {
   "cell_type": "code",
   "execution_count": 14,
   "metadata": {},
   "outputs": [
    {
     "name": "stdout",
     "output_type": "stream",
     "text": [
      "Accuracy_score: 90.0%\n"
     ]
    }
   ],
   "source": [
    "from sklearn.neighbors import KNeighborsClassifier\n",
    "model = KNeighborsClassifier(n_neighbors=1, p=2) # I am using Euclidean distance p = 2, p = 1 manhattan_distance\n",
    "model.fit(x_train,y_train)\n",
    "y_predict = model.predict(x_test)\n",
    "erorr = accuracy_score(y_predict, y_test)\n",
    "print(f\"Accuracy_score: {100*erorr}%\")"
   ]
  },
  {
   "cell_type": "code",
   "execution_count": 15,
   "metadata": {},
   "outputs": [
    {
     "name": "stdout",
     "output_type": "stream",
     "text": [
      "Accuracy_score: 86.66666666666667%\n"
     ]
    }
   ],
   "source": [
    "# with 7NN\n",
    "model = KNeighborsClassifier(n_neighbors=7, p=2) # I am using Euclidean distance p = 2, p = 1 manhattan_distance\n",
    "model.fit(x_train,y_train)\n",
    "y_predict = model.predict(x_test)\n",
    "erorr = accuracy_score(y_predict, y_test)\n",
    "print(f\"Accuracy_score: {100*erorr}%\")\n"
   ]
  },
  {
   "cell_type": "markdown",
   "metadata": {},
   "source": [
    "### Đánh trọng số cho các điểm lân cận\n",
    "+ Cách đánh trọng số phải thoải mãn điều kiện là một điểm càng gần điểm kiểm thử phải được đánh trọng số càng cao\n",
    "+ Cách đơn giản nhất là lấy nghịch đảo của khoảng cách này. Trong trường hợp test data trùng với một điểm dữ liệu trong training data, tức khoảng cách bằng 0, ta lấy luôn đầu ra của điểm training data\n",
    "+ Scikit-learn giúp chúng ta đơn giản hóa việc này bằng cách gán thuộc tính weights = ’distance’.\n",
    "+ default weights = 'uniform' tương ứng với việc coi tất cả các điểm lân cận có giá trị như nhau"
   ]
  },
  {
   "cell_type": "code",
   "execution_count": 16,
   "metadata": {},
   "outputs": [
    {
     "name": "stdout",
     "output_type": "stream",
     "text": [
      "Accuracy_score: 90.0%\n"
     ]
    }
   ],
   "source": [
    "model = KNeighborsClassifier(n_neighbors=7, p = 2, weights = 'distance')\n",
    "model.fit(x_train, y_train)\n",
    "y_predict = model.predict(x_test)\n",
    "erorr = accuracy_score(y_predict, y_test)\n",
    "print(f\"Accuracy_score: {100*erorr}%\")"
   ]
  },
  {
   "cell_type": "markdown",
   "metadata": {},
   "source": [
    "#### We can change numbers of weight\n",
    "+ Xem thêm ở Cuốn sách **[Machine Learning cơ bản](https://machinelearningcoban.com/2017/01/08/knn/)** "
   ]
  },
  {
   "cell_type": "code",
   "execution_count": 25,
   "metadata": {},
   "outputs": [
    {
     "name": "stdout",
     "output_type": "stream",
     "text": [
      "Accuracy_score: 83.33333333333334%\n"
     ]
    }
   ],
   "source": [
    "def myweight(distances):\n",
    "    sigma2 = 0.45# we can change this number\n",
    "    return np.exp(-distances**2/sigma2)\n",
    "\n",
    "model = KNeighborsClassifier(n_neighbors=7, p = 2, weights = myweight)\n",
    "model.fit(x_train, y_train)\n",
    "y_predict = model.predict(x_test)\n",
    "erorr = accuracy_score(y_predict, y_test)\n",
    "print(f\"Accuracy_score: {100*erorr}%\")"
   ]
  },
  {
   "cell_type": "code",
   "execution_count": 26,
   "metadata": {},
   "outputs": [
    {
     "name": "stdout",
     "output_type": "stream",
     "text": [
      "[2 1 0 1 1 0 1 1 0 1 2 1 0 2 0 2 2 2 0 0 1 2 1 1 2 1 1 1 2 2]\n"
     ]
    }
   ],
   "source": [
    "print(y_predict)"
   ]
  }
 ],
 "metadata": {
  "kernelspec": {
   "display_name": "Python 3.8.10 ('tuanenv': venv)",
   "language": "python",
   "name": "python3"
  },
  "language_info": {
   "codemirror_mode": {
    "name": "ipython",
    "version": 3
   },
   "file_extension": ".py",
   "mimetype": "text/x-python",
   "name": "python",
   "nbconvert_exporter": "python",
   "pygments_lexer": "ipython3",
   "version": "3.8.10"
  },
  "orig_nbformat": 4,
  "vscode": {
   "interpreter": {
    "hash": "d7b2155b938e533e131dbfed11b9807e301d4a3fbcce445e1a8fae2fefee6bc2"
   }
  }
 },
 "nbformat": 4,
 "nbformat_minor": 2
}
