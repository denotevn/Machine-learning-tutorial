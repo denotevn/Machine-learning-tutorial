{
 "cells": [
  {
   "cell_type": "markdown",
   "metadata": {},
   "source": [
    "### **K nearest neighbor**\n",
    "+ lazy learning\n",
    "+ classification và regression.\n",
    "+ nhớ lại một cách máy móc toàn bộ dữ liệu\n"
   ]
  },
  {
   "cell_type": "markdown",
   "metadata": {},
   "source": [
    "#### **KNN for classification**\n",
    "+ nhãn của một điểm dữ liệu mới được suy ra trực tiếp từ K điểm dữ liệu gần nhất trong tập huấn luyện\n",
    "#### **KNN for Regression**\n",
    "+ đầu ra của một điểm dữ liệu sẽ bằng chính đầu ra của điểm dữ liệu đã biết gần nhất (K=1) \n",
    "+ hoặc là trung bình có trọng số của đầu ra của những điểm gần nhất"
   ]
  }
 ],
 "metadata": {
  "language_info": {
   "name": "python"
  },
  "orig_nbformat": 4
 },
 "nbformat": 4,
 "nbformat_minor": 2
}
