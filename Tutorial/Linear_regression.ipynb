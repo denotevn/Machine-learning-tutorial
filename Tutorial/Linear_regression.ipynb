{
 "cells": [
  {
   "cell_type": "markdown",
   "metadata": {},
   "source": [
    "### **Understand Linear Regression**\n",
    "![markdown](https://github.com/denotevn/Machine-learning-tutorial/blob/main/tutorial_theory/picture/Linear%20Regression.png)\n",
    "\n",
    "+ ***To understand more about Linear Regression algorithm: [Picture](https://github.com/denotevn/Machine-learning-tutorial/blob/main/Tutorial/picture/Linear%20Regression.png)***\n"
   ]
  },
  {
   "cell_type": "markdown",
   "metadata": {},
   "source": [
    "### **How to evalue** \n",
    "#### what is R - Square\n",
    "> R-Square value is a statistics measure of how close the data are to the fitted regression line\n",
    "> It is also know as coeffcient of determination, or the coefficient of mutiple determination \n",
    "\n",
    "+ Example of caculate R^2 in this link : **[Cacl R^2](https://github.com/denotevn/Machine-learning-tutorial/blob/main/Tutorial/picture/Cacl%20R%5E2.png)**"
   ]
  },
  {
   "cell_type": "code",
   "execution_count": 40,
   "metadata": {},
   "outputs": [
    {
     "name": "stdout",
     "output_type": "stream",
     "text": [
      "(237, 4)\n"
     ]
    },
    {
     "data": {
      "text/html": [
       "<div>\n",
       "<style scoped>\n",
       "    .dataframe tbody tr th:only-of-type {\n",
       "        vertical-align: middle;\n",
       "    }\n",
       "\n",
       "    .dataframe tbody tr th {\n",
       "        vertical-align: top;\n",
       "    }\n",
       "\n",
       "    .dataframe thead th {\n",
       "        text-align: right;\n",
       "    }\n",
       "</style>\n",
       "<table border=\"1\" class=\"dataframe\">\n",
       "  <thead>\n",
       "    <tr style=\"text-align: right;\">\n",
       "      <th></th>\n",
       "      <th>Gender</th>\n",
       "      <th>Age Range</th>\n",
       "      <th>Head Size(cm^3)</th>\n",
       "      <th>Brain Weight(grams)</th>\n",
       "    </tr>\n",
       "  </thead>\n",
       "  <tbody>\n",
       "    <tr>\n",
       "      <th>232</th>\n",
       "      <td>2</td>\n",
       "      <td>2</td>\n",
       "      <td>3214</td>\n",
       "      <td>1110</td>\n",
       "    </tr>\n",
       "    <tr>\n",
       "      <th>233</th>\n",
       "      <td>2</td>\n",
       "      <td>2</td>\n",
       "      <td>3394</td>\n",
       "      <td>1215</td>\n",
       "    </tr>\n",
       "    <tr>\n",
       "      <th>234</th>\n",
       "      <td>2</td>\n",
       "      <td>2</td>\n",
       "      <td>3233</td>\n",
       "      <td>1104</td>\n",
       "    </tr>\n",
       "    <tr>\n",
       "      <th>235</th>\n",
       "      <td>2</td>\n",
       "      <td>2</td>\n",
       "      <td>3352</td>\n",
       "      <td>1170</td>\n",
       "    </tr>\n",
       "    <tr>\n",
       "      <th>236</th>\n",
       "      <td>2</td>\n",
       "      <td>2</td>\n",
       "      <td>3391</td>\n",
       "      <td>1120</td>\n",
       "    </tr>\n",
       "  </tbody>\n",
       "</table>\n",
       "</div>"
      ],
      "text/plain": [
       "     Gender  Age Range  Head Size(cm^3)  Brain Weight(grams)\n",
       "232       2          2             3214                 1110\n",
       "233       2          2             3394                 1215\n",
       "234       2          2             3233                 1104\n",
       "235       2          2             3352                 1170\n",
       "236       2          2             3391                 1120"
      ]
     },
     "execution_count": 40,
     "metadata": {},
     "output_type": "execute_result"
    }
   ],
   "source": [
    "import numpy as np\n",
    "import pandas as pd\n",
    "import matplotlib.pyplot as plt\n",
    "\n",
    "# Reading data\n",
    "data =pd.read_csv('/home/tuandinh/Desktop/MachineLearning/tutorial_theory/dataset/headbrain.csv')\n",
    "print(data.shape)\n",
    "data.tail()"
   ]
  },
  {
   "cell_type": "code",
   "execution_count": 41,
   "metadata": {},
   "outputs": [],
   "source": [
    "X = data['Head Size(cm^3)'].values\n",
    "Y = data['Brain Weight(grams)'].values"
   ]
  },
  {
   "cell_type": "code",
   "execution_count": 42,
   "metadata": {},
   "outputs": [
    {
     "name": "stdout",
     "output_type": "stream",
     "text": [
      "0.26342933948939945 325.57342104944223\n"
     ]
    }
   ],
   "source": [
    "# mean x and mean y\n",
    "mean_x = X.mean()\n",
    "mean_y = Y.mean()\n",
    "# total number of values\n",
    "n = len(X) # number of row\n",
    "# Using formula to calculate b1 and b0\n",
    "# y = b1*x + b0\n",
    "numer = 0\n",
    "denom = 0\n",
    "for i in range(n):\n",
    "    numer += (X[i] - mean_x)*(Y[i] - mean_y)\n",
    "    denom += (X[i] - mean_x)**2\n",
    "b1 = numer/denom\n",
    "b0 = mean_y - (mean_x*b1)\n",
    "\n",
    "print(b1, b0)\n",
    "\n"
   ]
  },
  {
   "cell_type": "code",
   "execution_count": 43,
   "metadata": {},
   "outputs": [
    {
     "data": {
      "image/png": "[encoded data removed]",
      "text/plain": [
       "<Figure size 432x288 with 1 Axes>"
      ]
     },
     "metadata": {
      "needs_background": "light"
     },
     "output_type": "display_data"
    }
   ],
   "source": [
    "import matplotlib.pyplot as plt\n",
    "max_x=np.max(X)+100\n",
    "min_x=np.min(X)-100\n",
    "x=np.linspace(min_x, max_x, 100)\n",
    "y=b1*x+b0\n",
    "\n",
    "plt.plot(x,y,color='#58b970',label='regression')\n",
    "plt.scatter(X,Y,c='#ef5423',label='scatter plot')\n",
    "\n",
    "plt.xlabel('head size (cm^3)')\n",
    "plt.ylabel('brain weight (grams)')\n",
    "plt.legend()\n",
    "\n",
    "plt.show()"
   ]
  },
  {
   "cell_type": "code",
   "execution_count": 44,
   "metadata": {},
   "outputs": [
    {
     "name": "stdout",
     "output_type": "stream",
     "text": [
      "0.6393117199570003\n"
     ]
    }
   ],
   "source": [
    "diff_actual_mean = 0\n",
    "diff_predict_mean = 0\n",
    "for i  in range(n):\n",
    "    y_pred = b1 * X[i] + b0\n",
    "    diff_predict_mean += (Y[i] - y_pred)**2\n",
    "    diff_actual_mean += (Y[i] - mean_y)**2\n",
    "r2 = 1 - (diff_predict_mean / diff_actual_mean)\n",
    "print(r2) "
   ]
  },
  {
   "cell_type": "markdown",
   "metadata": {},
   "source": [
    "### Using model in Scikit-Learning "
   ]
  },
  {
   "cell_type": "code",
   "execution_count": 45,
   "metadata": {},
   "outputs": [],
   "source": [
    "df = pd.read_csv('/home/tuandinh/Desktop/MachineLearning/tutorial_theory/dataset/headbrain.csv')\n",
    "df.head()\n",
    "X1 = df['Head Size(cm^3)'].values\n",
    "Y1 = df['Brain Weight(grams)'].values"
   ]
  },
  {
   "cell_type": "code",
   "execution_count": 46,
   "metadata": {},
   "outputs": [
    {
     "name": "stdout",
     "output_type": "stream",
     "text": [
      "0.639311719957\n"
     ]
    }
   ],
   "source": [
    "from sklearn.linear_model import LinearRegression\n",
    "from sklearn.metrics import mean_squared_error\n",
    "n = len(X1)\n",
    "X1 = X1.reshape((n,1)) # chuyen ve matrix (nx1)\n",
    "model = LinearRegression()\n",
    "model.fit(X1,Y)\n",
    "# mean_square_error\n",
    "r2_score = model.score(X1,Y1)\n",
    "print(r2_score)"
   ]
  },
  {
   "cell_type": "code",
   "execution_count": 48,
   "metadata": {},
   "outputs": [
    {
     "data": {
      "text/plain": [
       "0.6203314269202964"
      ]
     },
     "execution_count": 48,
     "metadata": {},
     "output_type": "execute_result"
    }
   ],
   "source": [
    "from sklearn import model_selection\n",
    "n = len(X)\n",
    "X = X.reshape(n,1)\n",
    "x_train, x_test, y_train, y_test = model_selection.train_test_split(X,Y,train_size=0.8,random_state=6)\n",
    "model2=LinearRegression().fit(x_train, y_train)\n",
    "model2.score(x_test, y_test)"
   ]
  },
  {
   "cell_type": "code",
   "execution_count": 49,
   "metadata": {},
   "outputs": [
    {
     "data": {
      "image/png": "[encoded data removed]",
      "text/plain": [
       "<Figure size 432x288 with 1 Axes>"
      ]
     },
     "metadata": {
      "needs_background": "light"
     },
     "output_type": "display_data"
    }
   ],
   "source": [
    "(m,c) = (model.coef_[0], model.intercept_)\n",
    "max_x = max(X) + 100\n",
    "min_x = min(X) - 100\n",
    "x = np.linspace(min_x, max_x, 1000)\n",
    "y1 = m*x + c\n",
    "\n",
    "plt.plot(x,y1,color='#58b970',label='regression')\n",
    "plt.scatter(X,Y,c='#ef5423',label='scatter plot')\n",
    "\n",
    "plt.xlabel('head size (cm^3)')\n",
    "plt.ylabel('brain weight (grams)')\n",
    "plt.legend()\n",
    "\n",
    "plt.show()"
   ]
  },
  {
   "cell_type": "code",
   "execution_count": null,
   "metadata": {},
   "outputs": [],
   "source": []
  }
 ],
 "metadata": {
  "kernelspec": {
   "display_name": "Python 3.8.10 ('tuanenv': venv)",
   "language": "python",
   "name": "python3"
  },
  "language_info": {
   "codemirror_mode": {
    "name": "ipython",
    "version": 3
   },
   "file_extension": ".py",
   "mimetype": "text/x-python",
   "name": "python",
   "nbconvert_exporter": "python",
   "pygments_lexer": "ipython3",
   "version": "3.8.10"
  },
  "orig_nbformat": 4,
  "vscode": {
   "interpreter": {
    "hash": "d7b2155b938e533e131dbfed11b9807e301d4a3fbcce445e1a8fae2fefee6bc2"
   }
  }
 },
 "nbformat": 4,
 "nbformat_minor": 2
}
